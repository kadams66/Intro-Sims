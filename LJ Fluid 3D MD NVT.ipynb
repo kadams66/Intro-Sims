{
 "cells": [
  {
   "cell_type": "markdown",
   "metadata": {},
   "source": [
    "# Simulating a 3D Lennard-Jones Fluid with Periodic Boundary Conditions"
   ]
  },
  {
   "cell_type": "markdown",
   "metadata": {},
   "source": [
    "## Model\n",
    "\n",
    "Distribute particles along a 3D lattice and initialize velocities according to a Boltzmann Distribution at starting temp Ti. Shift velocities so net velocitiy (center of mass velocity) is 0\n",
    "\n",
    "Use velocity Verlet algorithm for MD steps\n",
    "\n",
    "Calculate force by summing over all pairs of particles\n",
    "\n",
    "Assume periodic boundary conditions and cutoff distance($ r_{c} $) < 1/2 diameter of box($ d_{box} $) so interactions are only between nearest periodic image. Therefore: $$ d_{x}(i,j) = x(i) - x(j) - d_{box} \\cdot round\\left(\\frac{x(i) - x(j)}{d_{box}}\\right) $$\n",
    "\n",
    "Lennard-Jones Potential Energy: $$ V(r) = 4 \\epsilon \\left(\\left(\\frac{\\sigma}{r}\\right)^{12}-\\left(\\frac{\\sigma}{r}\\right)^{6}\\right) = 4 \\left(\\frac{1}{r^{*12}} - \\frac{1}{r^{*6}}\\right) = \\frac{4}{r^{*6}} \\left(\\frac{1}{r^{*6}} - 1\\right) $$\n",
    "\n",
    "and Lennard-Jones Force: $$ F_{x}(r) = -\\frac{\\partial}{\\partial x} \\cdot V(r) = -\\left(\\frac{d_{x}}{r}\\right)\\left(\\frac{\\partial}{\\partial r} \\cdot V(r)\\right) = \\frac{48 d_{x}}{r^{*2}}\\left(\\frac{1}{r^{*12}} - 0.5\\frac{1}{r^{*6}}\\right) = \\frac{48 d_{x}}{r^{*2}} \\cdot \\frac{1}{r^{*6}}\\left(\\frac{1}{r^{*6}} - 0.5\\right) $$\n",
    "\n",
    "where x = any cartesian axis, $ d_{x} $ = distance between particles i and j along axis x, and r = vector distance between particles i and j. Therefore in 3D space:\n",
    "\n",
    "$$ r = \\sqrt{d_{x}^{2} + d_{y}^{2} + d_{z}^{2}} $$\n",
    "\n",
    "$$ V(d_{x}, d_{y}, d_{z}) = \\frac{4}{\\left(d_{x}^{2} + d_{y}^{2} + d_{z}^{2}\\right)^{3}} \\left(\\frac{1}{\\left(d_{x}^{2} + d_{y}^{2} + d_{z}^{2}\\right)^{3}} - 1\\right) $$\n",
    "\n",
    "$$ F_{x}(d_{x}, d_{y}, d_{z}) = \\frac{48 d_{x}}{d_{x}^{2} + d_{y}^{2} + d_{z}^{2}} \\cdot \\frac{1}{\\left(d_{x}^{2} + d_{y}^{2} + d_{z}^{2}\\right)^{3}}\\left(\\frac{1}{\\left(d_{x}^{2} + d_{y}^{2} + d_{z}^{2}\\right)^{3}} - 0.5\\right) $$\n",
    "\n",
    "Position: $$ x(t + dt) = x(t) + v(t)dt + \\frac{F(t)}{2m}dt^{2} $$\n",
    "\n",
    "Velocity: $$ v(t + dt) = v(t) + \\frac{f(t + dt) + f(t)}{2m}dt = v(t) + \\frac{f(t + dt)}{2m}dt + \\frac{f(t)}{2m}dt = v(t + \\frac{1}{2}dt) + \\frac{f(t + dt)}{2m}dt $$\n",
    "\n",
    "where $$ v(t + \\frac{1}{2}dt) = v(t) + \\frac{f(t)}{2m}dt $$"
   ]
  },
  {
   "cell_type": "markdown",
   "metadata": {},
   "source": [
    "## Initialization"
   ]
  },
  {
   "cell_type": "markdown",
   "metadata": {},
   "source": [
    "Imports:"
   ]
  },
  {
   "cell_type": "code",
   "execution_count": 14,
   "metadata": {},
   "outputs": [],
   "source": [
    "%matplotlib inline\n",
    "#%config InteractiveShell.ast_node_interactivity='last_expr_or_assign'\n",
    "import matplotlib.pyplot as plt\n",
    "import numpy as np\n",
    "rng = np.random.default_rng()"
   ]
  },
  {
   "cell_type": "markdown",
   "metadata": {},
   "source": [
    "Global Constants:"
   ]
  },
  {
   "cell_type": "code",
   "execution_count": 15,
   "metadata": {},
   "outputs": [],
   "source": [
    "m = 1\n",
    "dt = 0.01\n",
    "cycles = 10000\n",
    "ndim = 5\n",
    "nparts = ndim**3\n",
    "rho = 0.8442\n",
    "Ti = 1.5043\n",
    "dbox = ndim / np.cbrt(rho)\n",
    "samfreq = 5\n",
    "nbins = 50"
   ]
  },
  {
   "cell_type": "markdown",
   "metadata": {},
   "source": [
    "## Definitions"
   ]
  },
  {
   "cell_type": "code",
   "execution_count": 16,
   "metadata": {},
   "outputs": [],
   "source": [
    "#returns position after time delt using the velocity verlet method\n",
    "def verPos(currPos, vel, frc):\n",
    "    return currPos + (vel * dt) + (frc * dt**2 / 2 / m)\n",
    "\n",
    "#returns velocity after time delt using the velocity verlet method with half timestep\n",
    "def verVel(currVel, frc):\n",
    "    return currVel + (dt * frc / 2 / m)\n",
    "\n",
    "#returns distance between particle i and j along x axis \n",
    "def dist(xi, xj):\n",
    "    return xi - xj - dbox * round((xi - xj) / dbox)\n",
    "\n",
    "#returns 3D vector distance from distance components dx, dy, and dz\n",
    "def vdist(dx, dy, dz):\n",
    "    return np.sqrt(dx**2 + dy**2 + dz**2)\n",
    "\n",
    "#returns LJ force along x axis\n",
    "def force(dx, r):\n",
    "    return 48 * dx * r**-2 * r**-6 * (r**-6 - 0.5)\n",
    "\n",
    "#reutrns LJ potential\n",
    "def potE(r):\n",
    "    return 4 * r**-6 * (r**-6 - 1)\n",
    "\n",
    "#returns kinetic energy\n",
    "def kinE(v):\n",
    "    return 0.5 * m * v**2\n",
    "\n",
    "#Calculates forces across all pairs of particles\n",
    "def forces(pos):\n",
    "    #create new empty array\n",
    "    frc = np.zeros([nparts, 3])\n",
    "    #loop over all pairs of particles\n",
    "    for i in range(nparts - 1):\n",
    "        for j in range(i + 1, nparts):\n",
    "            #calculate component and vector distance between particles i and j \n",
    "            dx = dist(pos[i,0], pos[j,0])\n",
    "            dy = dist(pos[i,1], pos[j,1])\n",
    "            dz = dist(pos[i,2], pos[j,2])\n",
    "            r = vdist(dx, dy, dz)\n",
    "            #calculate and save forces\n",
    "            frc[i,0] += force(dx, r)\n",
    "            frc[i,1] += force(dy, r)\n",
    "            frc[i,2] += force(dz, r)\n",
    "            frc[j,0] -= force(dx, r)\n",
    "            frc[j,1] -= force(dy, r)\n",
    "            frc[j,2] -= force(dz, r)\n",
    "    return frc\n",
    "\n",
    "#Calculates new positions\n",
    "def positions(pos, vel, frc):\n",
    "    #loop over all particles componentwise\n",
    "    for i in range(nparts):\n",
    "        for j in range(3):\n",
    "            #calculate new position jth component of particle i\n",
    "            pos[i,j] = verPos(pos[i,j], vel[i,j], frc[i,j])\n",
    "    return pos\n",
    "\n",
    "#Calculates new velocities\n",
    "def velocities(vel, frc):\n",
    "    #loop over all particles componentwise\n",
    "    for i in range(nparts):\n",
    "        for j in range(3):\n",
    "            #calculate new velocity (at half time-step) jth component of particle i\n",
    "            vel[i,j] = verVel(vel[i,j], frc[i,j])\n",
    "    return vel\n",
    "\n",
    "#Samples position data for calculating RDF\n",
    "def gsample(ghist, pos):\n",
    "    #loop over all pairs of particles\n",
    "    for i in range(nparts - 1):\n",
    "        for j in range(i + 1, nparts):\n",
    "            #calculate component and vector distance between particles i and j\n",
    "            dx = dist(pos[i,0], pos[j,0])\n",
    "            dy = dist(pos[i,1], pos[j,1])\n",
    "            dz = dist(pos[i,2], pos[j,2])\n",
    "            r = vdist(dx, dy, dz)\n",
    "            #check if r < rc\n",
    "            if r < dbox / 2:\n",
    "                #add contribution to histogram\n",
    "                ig = int(r * 2 * nbins / dbox)\n",
    "                ghist[ig] += 2\n",
    "    return ghist\n",
    "\n",
    "#Calculates final RDF\n",
    "def gfinal(ghist, ngr):\n",
    "    #create empty 2d array\n",
    "    gr = np.zeros([nbins, 2])\n",
    "    #loop over all bins\n",
    "    for i in range(nbins):\n",
    "        #central distance of ith bin\n",
    "        r = dbox * (i + 0.5) / 2 / nbins\n",
    "        #volume of ith bin\n",
    "        vb = (4 / 3) * np.pi * ((i + 1)**3 - i**3) * (dbox / 2 / nbins)**3\n",
    "        #number of ideal gas molecules in ith bin\n",
    "        nid = vb * rho\n",
    "        #save normalized RDF\n",
    "        gr[i, 0] = r\n",
    "        gr[i, 1] = ghist[i] / ngr / nparts / nid\n",
    "    return gr\n"
   ]
  },
  {
   "cell_type": "markdown",
   "metadata": {},
   "source": [
    "## Simulation"
   ]
  },
  {
   "cell_type": "code",
   "execution_count": 17,
   "metadata": {},
   "outputs": [
    {
     "output_type": "stream",
     "name": "stdout",
     "text": "[[2.64519825e-02 0.00000000e+00]\n [7.93559474e-02 0.00000000e+00]\n [1.32259912e-01 0.00000000e+00]\n [1.85163877e-01 0.00000000e+00]\n [2.38067842e-01 0.00000000e+00]\n [2.90971807e-01 0.00000000e+00]\n [3.43875772e-01 0.00000000e+00]\n [3.96779737e-01 0.00000000e+00]\n [4.49683702e-01 0.00000000e+00]\n [5.02587667e-01 0.00000000e+00]\n [5.55491632e-01 0.00000000e+00]\n [6.08395597e-01 0.00000000e+00]\n [6.61299562e-01 0.00000000e+00]\n [7.14203526e-01 0.00000000e+00]\n [7.67107491e-01 0.00000000e+00]\n [8.20011456e-01 0.00000000e+00]\n [8.72915421e-01 0.00000000e+00]\n [9.25819386e-01 0.00000000e+00]\n [9.78723351e-01 0.00000000e+00]\n [1.03162732e+00 0.00000000e+00]\n [1.08453128e+00 0.00000000e+00]\n [1.13743525e+00 0.00000000e+00]\n [1.19033921e+00 0.00000000e+00]\n [1.24324318e+00 0.00000000e+00]\n [1.29614714e+00 2.37539415e-04]\n [1.34905111e+00 2.03613910e-04]\n [1.40195507e+00 0.00000000e+00]\n [1.45485904e+00 0.00000000e+00]\n [1.50776300e+00 0.00000000e+00]\n [1.56066697e+00 0.00000000e+00]\n [1.61357093e+00 0.00000000e+00]\n [1.66647490e+00 0.00000000e+00]\n [1.71937886e+00 0.00000000e+00]\n [1.77228282e+00 0.00000000e+00]\n [1.82518679e+00 6.84575728e-05]\n [1.87809075e+00 2.26293831e-04]\n [1.93099472e+00 0.00000000e+00]\n [1.98389868e+00 0.00000000e+00]\n [2.03680265e+00 0.00000000e+00]\n [2.08970661e+00 0.00000000e+00]\n [2.14261058e+00 0.00000000e+00]\n [2.19551454e+00 0.00000000e+00]\n [2.24841851e+00 3.10145082e-05]\n [2.30132247e+00 5.65186481e-05]\n [2.35422644e+00 0.00000000e+00]\n [2.40713040e+00 0.00000000e+00]\n [2.46003437e+00 0.00000000e+00]\n [2.51293833e+00 0.00000000e+00]\n [2.56584230e+00 0.00000000e+00]\n [2.61874626e+00 5.61188427e-05]]\n"
    }
   ],
   "source": [
    "#Creating the arrays\n",
    "\n",
    "Pos = np.zeros([nparts, 3])\n",
    "Vel = np.zeros([nparts, 3])\n",
    "Frc = np.zeros([nparts, 3])\n",
    "ghist = np.zeros(nbins)\n",
    "ngr = 0\n",
    "\n",
    "#Filling the arrays with the initial conditions\n",
    "\n",
    "#create nparts (ndim**3) by 3 array of points evenly distributed over a cubic lattice  of length dbox centered at the origin\n",
    "Pos = np.vstack(np.meshgrid(np.linspace(-dbox/2,dbox/2,ndim),np.linspace(-dbox/2,dbox/2,ndim),np.linspace(-dbox/2,dbox/2,ndim))).reshape(3,-1).T\n",
    "#Loop over 3 dimensional components\n",
    "for i in range(3):\n",
    "    sumV = 0\n",
    "    #loop over all particles initalizing velocities to a Boltzmann distribution\n",
    "    for j in range(nparts):\n",
    "        Vel[j,i] = rng.normal(0, np.sqrt(Ti))\n",
    "        sumV += Vel[j,i]\n",
    "    #center of mass (net) velocity\n",
    "    sumV = sumV / nparts\n",
    "    #loop over all particles to set net velocity to 0\n",
    "    for j in range(nparts):\n",
    "        Vel[j,i] = Vel[j,i] - sumV\n",
    "\n",
    "#MD Loop\n",
    "\n",
    "for i in range(cycles):\n",
    "    #velocity Verlet MD loop\n",
    "    Frc = forces(Pos)\n",
    "    Pos = positions(Pos, Vel, Frc)\n",
    "    Vel = velocities(Vel, Frc)\n",
    "    Frc = forces(Pos)\n",
    "    Vel = velocities(Vel, Frc)\n",
    "    #check if sampleing step\n",
    "    if i % samfreq == 0:\n",
    "        ghist = gsample(ghist, Pos)\n",
    "        ngr += 1\n",
    "\n",
    "#Finalization\n",
    "\n",
    "gr = gfinal(ghist, ngr)\n",
    "print(gr)"
   ]
  },
  {
   "cell_type": "code",
   "execution_count": 23,
   "metadata": {},
   "outputs": [
    {
     "output_type": "execute_result",
     "data": {
      "text/plain": "Text(0.5, 1.0, 'Radial Distribution Function')"
     },
     "metadata": {},
     "execution_count": 23
    },
    {
     "output_type": "display_data",
     "data": {
      "text/plain": "<Figure size 432x288 with 1 Axes>",
      "image/svg+xml": "<?xml version=\"1.0\" encoding=\"utf-8\" standalone=\"no\"?>\r\n<!DOCTYPE svg PUBLIC \"-//W3C//DTD SVG 1.1//EN\"\r\n  \"http://www.w3.org/Graphics/SVG/1.1/DTD/svg11.dtd\">\r\n<!-- Created with matplotlib (https://matplotlib.org/) -->\r\n<svg height=\"277.314375pt\" version=\"1.1\" viewBox=\"0 0 411.23125 277.314375\" width=\"411.23125pt\" xmlns=\"http://www.w3.org/2000/svg\" xmlns:xlink=\"http://www.w3.org/1999/xlink\">\r\n <defs>\r\n  <style type=\"text/css\">\r\n*{stroke-linecap:butt;stroke-linejoin:round;}\r\n  </style>\r\n </defs>\r\n <g id=\"figure_1\">\r\n  <g id=\"patch_1\">\r\n   <path d=\"M -0 277.314375 \r\nL 411.23125 277.314375 \r\nL 411.23125 0 \r\nL -0 0 \r\nz\r\n\" style=\"fill:none;\"/>\r\n  </g>\r\n  <g id=\"axes_1\">\r\n   <g id=\"patch_2\">\r\n    <path d=\"M 69.23125 239.758125 \r\nL 404.03125 239.758125 \r\nL 404.03125 22.318125 \r\nL 69.23125 22.318125 \r\nz\r\n\" style=\"fill:#ffffff;\"/>\r\n   </g>\r\n   <g id=\"matplotlib.axis_1\">\r\n    <g id=\"xtick_1\">\r\n     <g id=\"line2d_1\">\r\n      <defs>\r\n       <path d=\"M 0 0 \r\nL 0 3.5 \r\n\" id=\"mecc7455a1c\" style=\"stroke:#000000;stroke-width:0.8;\"/>\r\n      </defs>\r\n      <g>\r\n       <use style=\"stroke:#000000;stroke-width:0.8;\" x=\"81.34368\" xlink:href=\"#mecc7455a1c\" y=\"239.758125\"/>\r\n      </g>\r\n     </g>\r\n     <g id=\"text_1\">\r\n      <!-- 0.0 -->\r\n      <defs>\r\n       <path d=\"M 31.78125 66.40625 \r\nQ 24.171875 66.40625 20.328125 58.90625 \r\nQ 16.5 51.421875 16.5 36.375 \r\nQ 16.5 21.390625 20.328125 13.890625 \r\nQ 24.171875 6.390625 31.78125 6.390625 \r\nQ 39.453125 6.390625 43.28125 13.890625 \r\nQ 47.125 21.390625 47.125 36.375 \r\nQ 47.125 51.421875 43.28125 58.90625 \r\nQ 39.453125 66.40625 31.78125 66.40625 \r\nz\r\nM 31.78125 74.21875 \r\nQ 44.046875 74.21875 50.515625 64.515625 \r\nQ 56.984375 54.828125 56.984375 36.375 \r\nQ 56.984375 17.96875 50.515625 8.265625 \r\nQ 44.046875 -1.421875 31.78125 -1.421875 \r\nQ 19.53125 -1.421875 13.0625 8.265625 \r\nQ 6.59375 17.96875 6.59375 36.375 \r\nQ 6.59375 54.828125 13.0625 64.515625 \r\nQ 19.53125 74.21875 31.78125 74.21875 \r\nz\r\n\" id=\"DejaVuSans-48\"/>\r\n       <path d=\"M 10.6875 12.40625 \r\nL 21 12.40625 \r\nL 21 0 \r\nL 10.6875 0 \r\nz\r\n\" id=\"DejaVuSans-46\"/>\r\n      </defs>\r\n      <g transform=\"translate(73.392118 254.356562)scale(0.1 -0.1)\">\r\n       <use xlink:href=\"#DejaVuSans-48\"/>\r\n       <use x=\"63.623047\" xlink:href=\"#DejaVuSans-46\"/>\r\n       <use x=\"95.410156\" xlink:href=\"#DejaVuSans-48\"/>\r\n      </g>\r\n     </g>\r\n    </g>\r\n    <g id=\"xtick_2\">\r\n     <g id=\"line2d_2\">\r\n      <g>\r\n       <use style=\"stroke:#000000;stroke-width:0.8;\" x=\"140.049137\" xlink:href=\"#mecc7455a1c\" y=\"239.758125\"/>\r\n      </g>\r\n     </g>\r\n     <g id=\"text_2\">\r\n      <!-- 0.5 -->\r\n      <defs>\r\n       <path d=\"M 10.796875 72.90625 \r\nL 49.515625 72.90625 \r\nL 49.515625 64.59375 \r\nL 19.828125 64.59375 \r\nL 19.828125 46.734375 \r\nQ 21.96875 47.46875 24.109375 47.828125 \r\nQ 26.265625 48.1875 28.421875 48.1875 \r\nQ 40.625 48.1875 47.75 41.5 \r\nQ 54.890625 34.8125 54.890625 23.390625 \r\nQ 54.890625 11.625 47.5625 5.09375 \r\nQ 40.234375 -1.421875 26.90625 -1.421875 \r\nQ 22.3125 -1.421875 17.546875 -0.640625 \r\nQ 12.796875 0.140625 7.71875 1.703125 \r\nL 7.71875 11.625 \r\nQ 12.109375 9.234375 16.796875 8.0625 \r\nQ 21.484375 6.890625 26.703125 6.890625 \r\nQ 35.15625 6.890625 40.078125 11.328125 \r\nQ 45.015625 15.765625 45.015625 23.390625 \r\nQ 45.015625 31 40.078125 35.4375 \r\nQ 35.15625 39.890625 26.703125 39.890625 \r\nQ 22.75 39.890625 18.8125 39.015625 \r\nQ 14.890625 38.140625 10.796875 36.28125 \r\nz\r\n\" id=\"DejaVuSans-53\"/>\r\n      </defs>\r\n      <g transform=\"translate(132.097574 254.356562)scale(0.1 -0.1)\">\r\n       <use xlink:href=\"#DejaVuSans-48\"/>\r\n       <use x=\"63.623047\" xlink:href=\"#DejaVuSans-46\"/>\r\n       <use x=\"95.410156\" xlink:href=\"#DejaVuSans-53\"/>\r\n      </g>\r\n     </g>\r\n    </g>\r\n    <g id=\"xtick_3\">\r\n     <g id=\"line2d_3\">\r\n      <g>\r\n       <use style=\"stroke:#000000;stroke-width:0.8;\" x=\"198.754593\" xlink:href=\"#mecc7455a1c\" y=\"239.758125\"/>\r\n      </g>\r\n     </g>\r\n     <g id=\"text_3\">\r\n      <!-- 1.0 -->\r\n      <defs>\r\n       <path d=\"M 12.40625 8.296875 \r\nL 28.515625 8.296875 \r\nL 28.515625 63.921875 \r\nL 10.984375 60.40625 \r\nL 10.984375 69.390625 \r\nL 28.421875 72.90625 \r\nL 38.28125 72.90625 \r\nL 38.28125 8.296875 \r\nL 54.390625 8.296875 \r\nL 54.390625 0 \r\nL 12.40625 0 \r\nz\r\n\" id=\"DejaVuSans-49\"/>\r\n      </defs>\r\n      <g transform=\"translate(190.80303 254.356562)scale(0.1 -0.1)\">\r\n       <use xlink:href=\"#DejaVuSans-49\"/>\r\n       <use x=\"63.623047\" xlink:href=\"#DejaVuSans-46\"/>\r\n       <use x=\"95.410156\" xlink:href=\"#DejaVuSans-48\"/>\r\n      </g>\r\n     </g>\r\n    </g>\r\n    <g id=\"xtick_4\">\r\n     <g id=\"line2d_4\">\r\n      <g>\r\n       <use style=\"stroke:#000000;stroke-width:0.8;\" x=\"257.460049\" xlink:href=\"#mecc7455a1c\" y=\"239.758125\"/>\r\n      </g>\r\n     </g>\r\n     <g id=\"text_4\">\r\n      <!-- 1.5 -->\r\n      <g transform=\"translate(249.508486 254.356562)scale(0.1 -0.1)\">\r\n       <use xlink:href=\"#DejaVuSans-49\"/>\r\n       <use x=\"63.623047\" xlink:href=\"#DejaVuSans-46\"/>\r\n       <use x=\"95.410156\" xlink:href=\"#DejaVuSans-53\"/>\r\n      </g>\r\n     </g>\r\n    </g>\r\n    <g id=\"xtick_5\">\r\n     <g id=\"line2d_5\">\r\n      <g>\r\n       <use style=\"stroke:#000000;stroke-width:0.8;\" x=\"316.165505\" xlink:href=\"#mecc7455a1c\" y=\"239.758125\"/>\r\n      </g>\r\n     </g>\r\n     <g id=\"text_5\">\r\n      <!-- 2.0 -->\r\n      <defs>\r\n       <path d=\"M 19.1875 8.296875 \r\nL 53.609375 8.296875 \r\nL 53.609375 0 \r\nL 7.328125 0 \r\nL 7.328125 8.296875 \r\nQ 12.9375 14.109375 22.625 23.890625 \r\nQ 32.328125 33.6875 34.8125 36.53125 \r\nQ 39.546875 41.84375 41.421875 45.53125 \r\nQ 43.3125 49.21875 43.3125 52.78125 \r\nQ 43.3125 58.59375 39.234375 62.25 \r\nQ 35.15625 65.921875 28.609375 65.921875 \r\nQ 23.96875 65.921875 18.8125 64.3125 \r\nQ 13.671875 62.703125 7.8125 59.421875 \r\nL 7.8125 69.390625 \r\nQ 13.765625 71.78125 18.9375 73 \r\nQ 24.125 74.21875 28.421875 74.21875 \r\nQ 39.75 74.21875 46.484375 68.546875 \r\nQ 53.21875 62.890625 53.21875 53.421875 \r\nQ 53.21875 48.921875 51.53125 44.890625 \r\nQ 49.859375 40.875 45.40625 35.40625 \r\nQ 44.1875 33.984375 37.640625 27.21875 \r\nQ 31.109375 20.453125 19.1875 8.296875 \r\nz\r\n\" id=\"DejaVuSans-50\"/>\r\n      </defs>\r\n      <g transform=\"translate(308.213942 254.356562)scale(0.1 -0.1)\">\r\n       <use xlink:href=\"#DejaVuSans-50\"/>\r\n       <use x=\"63.623047\" xlink:href=\"#DejaVuSans-46\"/>\r\n       <use x=\"95.410156\" xlink:href=\"#DejaVuSans-48\"/>\r\n      </g>\r\n     </g>\r\n    </g>\r\n    <g id=\"xtick_6\">\r\n     <g id=\"line2d_6\">\r\n      <g>\r\n       <use style=\"stroke:#000000;stroke-width:0.8;\" x=\"374.870961\" xlink:href=\"#mecc7455a1c\" y=\"239.758125\"/>\r\n      </g>\r\n     </g>\r\n     <g id=\"text_6\">\r\n      <!-- 2.5 -->\r\n      <g transform=\"translate(366.919399 254.356562)scale(0.1 -0.1)\">\r\n       <use xlink:href=\"#DejaVuSans-50\"/>\r\n       <use x=\"63.623047\" xlink:href=\"#DejaVuSans-46\"/>\r\n       <use x=\"95.410156\" xlink:href=\"#DejaVuSans-53\"/>\r\n      </g>\r\n     </g>\r\n    </g>\r\n    <g id=\"text_7\">\r\n     <!-- r -->\r\n     <defs>\r\n      <path d=\"M 41.109375 46.296875 \r\nQ 39.59375 47.171875 37.8125 47.578125 \r\nQ 36.03125 48 33.890625 48 \r\nQ 26.265625 48 22.1875 43.046875 \r\nQ 18.109375 38.09375 18.109375 28.8125 \r\nL 18.109375 0 \r\nL 9.078125 0 \r\nL 9.078125 54.6875 \r\nL 18.109375 54.6875 \r\nL 18.109375 46.1875 \r\nQ 20.953125 51.171875 25.484375 53.578125 \r\nQ 30.03125 56 36.53125 56 \r\nQ 37.453125 56 38.578125 55.875 \r\nQ 39.703125 55.765625 41.0625 55.515625 \r\nz\r\n\" id=\"DejaVuSans-114\"/>\r\n     </defs>\r\n     <g transform=\"translate(234.575781 268.034687)scale(0.1 -0.1)\">\r\n      <use xlink:href=\"#DejaVuSans-114\"/>\r\n     </g>\r\n    </g>\r\n   </g>\r\n   <g id=\"matplotlib.axis_2\">\r\n    <g id=\"ytick_1\">\r\n     <g id=\"line2d_7\">\r\n      <defs>\r\n       <path d=\"M 0 0 \r\nL -3.5 0 \r\n\" id=\"m19222c13fb\" style=\"stroke:#000000;stroke-width:0.8;\"/>\r\n      </defs>\r\n      <g>\r\n       <use style=\"stroke:#000000;stroke-width:0.8;\" x=\"69.23125\" xlink:href=\"#m19222c13fb\" y=\"229.874489\"/>\r\n      </g>\r\n     </g>\r\n     <g id=\"text_8\">\r\n      <!-- 0.00000 -->\r\n      <g transform=\"translate(20.878125 233.673707)scale(0.1 -0.1)\">\r\n       <use xlink:href=\"#DejaVuSans-48\"/>\r\n       <use x=\"63.623047\" xlink:href=\"#DejaVuSans-46\"/>\r\n       <use x=\"95.410156\" xlink:href=\"#DejaVuSans-48\"/>\r\n       <use x=\"159.033203\" xlink:href=\"#DejaVuSans-48\"/>\r\n       <use x=\"222.65625\" xlink:href=\"#DejaVuSans-48\"/>\r\n       <use x=\"286.279297\" xlink:href=\"#DejaVuSans-48\"/>\r\n       <use x=\"349.902344\" xlink:href=\"#DejaVuSans-48\"/>\r\n      </g>\r\n     </g>\r\n    </g>\r\n    <g id=\"ytick_2\">\r\n     <g id=\"line2d_8\">\r\n      <g>\r\n       <use style=\"stroke:#000000;stroke-width:0.8;\" x=\"69.23125\" xlink:href=\"#m19222c13fb\" y=\"188.266083\"/>\r\n      </g>\r\n     </g>\r\n     <g id=\"text_9\">\r\n      <!-- 0.00005 -->\r\n      <g transform=\"translate(20.878125 192.065302)scale(0.1 -0.1)\">\r\n       <use xlink:href=\"#DejaVuSans-48\"/>\r\n       <use x=\"63.623047\" xlink:href=\"#DejaVuSans-46\"/>\r\n       <use x=\"95.410156\" xlink:href=\"#DejaVuSans-48\"/>\r\n       <use x=\"159.033203\" xlink:href=\"#DejaVuSans-48\"/>\r\n       <use x=\"222.65625\" xlink:href=\"#DejaVuSans-48\"/>\r\n       <use x=\"286.279297\" xlink:href=\"#DejaVuSans-48\"/>\r\n       <use x=\"349.902344\" xlink:href=\"#DejaVuSans-53\"/>\r\n      </g>\r\n     </g>\r\n    </g>\r\n    <g id=\"ytick_3\">\r\n     <g id=\"line2d_9\">\r\n      <g>\r\n       <use style=\"stroke:#000000;stroke-width:0.8;\" x=\"69.23125\" xlink:href=\"#m19222c13fb\" y=\"146.657677\"/>\r\n      </g>\r\n     </g>\r\n     <g id=\"text_10\">\r\n      <!-- 0.00010 -->\r\n      <g transform=\"translate(20.878125 150.456896)scale(0.1 -0.1)\">\r\n       <use xlink:href=\"#DejaVuSans-48\"/>\r\n       <use x=\"63.623047\" xlink:href=\"#DejaVuSans-46\"/>\r\n       <use x=\"95.410156\" xlink:href=\"#DejaVuSans-48\"/>\r\n       <use x=\"159.033203\" xlink:href=\"#DejaVuSans-48\"/>\r\n       <use x=\"222.65625\" xlink:href=\"#DejaVuSans-48\"/>\r\n       <use x=\"286.279297\" xlink:href=\"#DejaVuSans-49\"/>\r\n       <use x=\"349.902344\" xlink:href=\"#DejaVuSans-48\"/>\r\n      </g>\r\n     </g>\r\n    </g>\r\n    <g id=\"ytick_4\">\r\n     <g id=\"line2d_10\">\r\n      <g>\r\n       <use style=\"stroke:#000000;stroke-width:0.8;\" x=\"69.23125\" xlink:href=\"#m19222c13fb\" y=\"105.049272\"/>\r\n      </g>\r\n     </g>\r\n     <g id=\"text_11\">\r\n      <!-- 0.00015 -->\r\n      <g transform=\"translate(20.878125 108.84849)scale(0.1 -0.1)\">\r\n       <use xlink:href=\"#DejaVuSans-48\"/>\r\n       <use x=\"63.623047\" xlink:href=\"#DejaVuSans-46\"/>\r\n       <use x=\"95.410156\" xlink:href=\"#DejaVuSans-48\"/>\r\n       <use x=\"159.033203\" xlink:href=\"#DejaVuSans-48\"/>\r\n       <use x=\"222.65625\" xlink:href=\"#DejaVuSans-48\"/>\r\n       <use x=\"286.279297\" xlink:href=\"#DejaVuSans-49\"/>\r\n       <use x=\"349.902344\" xlink:href=\"#DejaVuSans-53\"/>\r\n      </g>\r\n     </g>\r\n    </g>\r\n    <g id=\"ytick_5\">\r\n     <g id=\"line2d_11\">\r\n      <g>\r\n       <use style=\"stroke:#000000;stroke-width:0.8;\" x=\"69.23125\" xlink:href=\"#m19222c13fb\" y=\"63.440866\"/>\r\n      </g>\r\n     </g>\r\n     <g id=\"text_12\">\r\n      <!-- 0.00020 -->\r\n      <g transform=\"translate(20.878125 67.240085)scale(0.1 -0.1)\">\r\n       <use xlink:href=\"#DejaVuSans-48\"/>\r\n       <use x=\"63.623047\" xlink:href=\"#DejaVuSans-46\"/>\r\n       <use x=\"95.410156\" xlink:href=\"#DejaVuSans-48\"/>\r\n       <use x=\"159.033203\" xlink:href=\"#DejaVuSans-48\"/>\r\n       <use x=\"222.65625\" xlink:href=\"#DejaVuSans-48\"/>\r\n       <use x=\"286.279297\" xlink:href=\"#DejaVuSans-50\"/>\r\n       <use x=\"349.902344\" xlink:href=\"#DejaVuSans-48\"/>\r\n      </g>\r\n     </g>\r\n    </g>\r\n    <g id=\"text_13\">\r\n     <!-- g(r) -->\r\n     <defs>\r\n      <path d=\"M 45.40625 27.984375 \r\nQ 45.40625 37.75 41.375 43.109375 \r\nQ 37.359375 48.484375 30.078125 48.484375 \r\nQ 22.859375 48.484375 18.828125 43.109375 \r\nQ 14.796875 37.75 14.796875 27.984375 \r\nQ 14.796875 18.265625 18.828125 12.890625 \r\nQ 22.859375 7.515625 30.078125 7.515625 \r\nQ 37.359375 7.515625 41.375 12.890625 \r\nQ 45.40625 18.265625 45.40625 27.984375 \r\nz\r\nM 54.390625 6.78125 \r\nQ 54.390625 -7.171875 48.1875 -13.984375 \r\nQ 42 -20.796875 29.203125 -20.796875 \r\nQ 24.46875 -20.796875 20.265625 -20.09375 \r\nQ 16.0625 -19.390625 12.109375 -17.921875 \r\nL 12.109375 -9.1875 \r\nQ 16.0625 -11.328125 19.921875 -12.34375 \r\nQ 23.78125 -13.375 27.78125 -13.375 \r\nQ 36.625 -13.375 41.015625 -8.765625 \r\nQ 45.40625 -4.15625 45.40625 5.171875 \r\nL 45.40625 9.625 \r\nQ 42.625 4.78125 38.28125 2.390625 \r\nQ 33.9375 0 27.875 0 \r\nQ 17.828125 0 11.671875 7.65625 \r\nQ 5.515625 15.328125 5.515625 27.984375 \r\nQ 5.515625 40.671875 11.671875 48.328125 \r\nQ 17.828125 56 27.875 56 \r\nQ 33.9375 56 38.28125 53.609375 \r\nQ 42.625 51.21875 45.40625 46.390625 \r\nL 45.40625 54.6875 \r\nL 54.390625 54.6875 \r\nz\r\n\" id=\"DejaVuSans-103\"/>\r\n      <path d=\"M 31 75.875 \r\nQ 24.46875 64.65625 21.28125 53.65625 \r\nQ 18.109375 42.671875 18.109375 31.390625 \r\nQ 18.109375 20.125 21.3125 9.0625 \r\nQ 24.515625 -2 31 -13.1875 \r\nL 23.1875 -13.1875 \r\nQ 15.875 -1.703125 12.234375 9.375 \r\nQ 8.59375 20.453125 8.59375 31.390625 \r\nQ 8.59375 42.28125 12.203125 53.3125 \r\nQ 15.828125 64.359375 23.1875 75.875 \r\nz\r\n\" id=\"DejaVuSans-40\"/>\r\n      <path d=\"M 8.015625 75.875 \r\nL 15.828125 75.875 \r\nQ 23.140625 64.359375 26.78125 53.3125 \r\nQ 30.421875 42.28125 30.421875 31.390625 \r\nQ 30.421875 20.453125 26.78125 9.375 \r\nQ 23.140625 -1.703125 15.828125 -13.1875 \r\nL 8.015625 -13.1875 \r\nQ 14.5 -2 17.703125 9.0625 \r\nQ 20.90625 20.125 20.90625 31.390625 \r\nQ 20.90625 42.671875 17.703125 53.65625 \r\nQ 14.5 64.65625 8.015625 75.875 \r\nz\r\n\" id=\"DejaVuSans-41\"/>\r\n     </defs>\r\n     <g transform=\"translate(14.798437 140.169375)rotate(-90)scale(0.1 -0.1)\">\r\n      <use xlink:href=\"#DejaVuSans-103\"/>\r\n      <use x=\"63.476562\" xlink:href=\"#DejaVuSans-40\"/>\r\n      <use x=\"102.490234\" xlink:href=\"#DejaVuSans-114\"/>\r\n      <use x=\"143.603516\" xlink:href=\"#DejaVuSans-41\"/>\r\n     </g>\r\n    </g>\r\n   </g>\r\n   <g id=\"line2d_12\">\r\n    <path clip-path=\"url(#p438db0d790)\" d=\"M 84.449432 229.874489 \r\nL 90.660935 229.874489 \r\nL 96.872437 229.874489 \r\nL 103.08394 229.874489 \r\nL 109.295443 229.874489 \r\nL 115.506946 229.874489 \r\nL 121.718449 229.874489 \r\nL 127.929951 229.874489 \r\nL 134.141454 229.874489 \r\nL 140.352957 229.874489 \r\nL 146.56446 229.874489 \r\nL 152.775962 229.874489 \r\nL 158.987465 229.874489 \r\nL 165.198968 229.874489 \r\nL 171.410471 229.874489 \r\nL 177.621974 229.874489 \r\nL 183.833476 229.874489 \r\nL 190.044979 229.874489 \r\nL 196.256482 229.874489 \r\nL 202.467985 229.874489 \r\nL 208.679487 229.874489 \r\nL 214.89099 229.874489 \r\nL 221.102493 229.874489 \r\nL 227.313996 229.874489 \r\nL 233.525499 32.201761 \r\nL 239.737001 60.433485 \r\nL 245.948504 229.874489 \r\nL 252.160007 229.874489 \r\nL 258.37151 229.874489 \r\nL 264.583013 229.874489 \r\nL 270.794515 229.874489 \r\nL 277.006018 229.874489 \r\nL 283.217521 229.874489 \r\nL 289.429024 229.874489 \r\nL 295.640526 172.906279 \r\nL 301.852029 41.559978 \r\nL 308.063532 229.874489 \r\nL 314.275035 229.874489 \r\nL 320.486538 229.874489 \r\nL 326.69804 229.874489 \r\nL 332.909543 229.874489 \r\nL 339.121046 229.874489 \r\nL 345.332549 204.065204 \r\nL 351.544051 182.841472 \r\nL 357.755554 229.874489 \r\nL 363.967057 229.874489 \r\nL 370.17856 229.874489 \r\nL 376.390063 229.874489 \r\nL 382.601565 229.874489 \r\nL 388.813068 183.174177 \r\n\" style=\"fill:none;stroke:#1f77b4;stroke-linecap:square;stroke-width:1.5;\"/>\r\n   </g>\r\n   <g id=\"patch_3\">\r\n    <path d=\"M 69.23125 239.758125 \r\nL 69.23125 22.318125 \r\n\" style=\"fill:none;stroke:#000000;stroke-linecap:square;stroke-linejoin:miter;stroke-width:0.8;\"/>\r\n   </g>\r\n   <g id=\"patch_4\">\r\n    <path d=\"M 404.03125 239.758125 \r\nL 404.03125 22.318125 \r\n\" style=\"fill:none;stroke:#000000;stroke-linecap:square;stroke-linejoin:miter;stroke-width:0.8;\"/>\r\n   </g>\r\n   <g id=\"patch_5\">\r\n    <path d=\"M 69.23125 239.758125 \r\nL 404.03125 239.758125 \r\n\" style=\"fill:none;stroke:#000000;stroke-linecap:square;stroke-linejoin:miter;stroke-width:0.8;\"/>\r\n   </g>\r\n   <g id=\"patch_6\">\r\n    <path d=\"M 69.23125 22.318125 \r\nL 404.03125 22.318125 \r\n\" style=\"fill:none;stroke:#000000;stroke-linecap:square;stroke-linejoin:miter;stroke-width:0.8;\"/>\r\n   </g>\r\n   <g id=\"text_14\">\r\n    <!-- Radial Distribution Function -->\r\n    <defs>\r\n     <path d=\"M 44.390625 34.1875 \r\nQ 47.5625 33.109375 50.5625 29.59375 \r\nQ 53.5625 26.078125 56.59375 19.921875 \r\nL 66.609375 0 \r\nL 56 0 \r\nL 46.6875 18.703125 \r\nQ 43.0625 26.03125 39.671875 28.421875 \r\nQ 36.28125 30.8125 30.421875 30.8125 \r\nL 19.671875 30.8125 \r\nL 19.671875 0 \r\nL 9.8125 0 \r\nL 9.8125 72.90625 \r\nL 32.078125 72.90625 \r\nQ 44.578125 72.90625 50.734375 67.671875 \r\nQ 56.890625 62.453125 56.890625 51.90625 \r\nQ 56.890625 45.015625 53.6875 40.46875 \r\nQ 50.484375 35.9375 44.390625 34.1875 \r\nz\r\nM 19.671875 64.796875 \r\nL 19.671875 38.921875 \r\nL 32.078125 38.921875 \r\nQ 39.203125 38.921875 42.84375 42.21875 \r\nQ 46.484375 45.515625 46.484375 51.90625 \r\nQ 46.484375 58.296875 42.84375 61.546875 \r\nQ 39.203125 64.796875 32.078125 64.796875 \r\nz\r\n\" id=\"DejaVuSans-82\"/>\r\n     <path d=\"M 34.28125 27.484375 \r\nQ 23.390625 27.484375 19.1875 25 \r\nQ 14.984375 22.515625 14.984375 16.5 \r\nQ 14.984375 11.71875 18.140625 8.90625 \r\nQ 21.296875 6.109375 26.703125 6.109375 \r\nQ 34.1875 6.109375 38.703125 11.40625 \r\nQ 43.21875 16.703125 43.21875 25.484375 \r\nL 43.21875 27.484375 \r\nz\r\nM 52.203125 31.203125 \r\nL 52.203125 0 \r\nL 43.21875 0 \r\nL 43.21875 8.296875 \r\nQ 40.140625 3.328125 35.546875 0.953125 \r\nQ 30.953125 -1.421875 24.3125 -1.421875 \r\nQ 15.921875 -1.421875 10.953125 3.296875 \r\nQ 6 8.015625 6 15.921875 \r\nQ 6 25.140625 12.171875 29.828125 \r\nQ 18.359375 34.515625 30.609375 34.515625 \r\nL 43.21875 34.515625 \r\nL 43.21875 35.40625 \r\nQ 43.21875 41.609375 39.140625 45 \r\nQ 35.0625 48.390625 27.6875 48.390625 \r\nQ 23 48.390625 18.546875 47.265625 \r\nQ 14.109375 46.140625 10.015625 43.890625 \r\nL 10.015625 52.203125 \r\nQ 14.9375 54.109375 19.578125 55.046875 \r\nQ 24.21875 56 28.609375 56 \r\nQ 40.484375 56 46.34375 49.84375 \r\nQ 52.203125 43.703125 52.203125 31.203125 \r\nz\r\n\" id=\"DejaVuSans-97\"/>\r\n     <path d=\"M 45.40625 46.390625 \r\nL 45.40625 75.984375 \r\nL 54.390625 75.984375 \r\nL 54.390625 0 \r\nL 45.40625 0 \r\nL 45.40625 8.203125 \r\nQ 42.578125 3.328125 38.25 0.953125 \r\nQ 33.9375 -1.421875 27.875 -1.421875 \r\nQ 17.96875 -1.421875 11.734375 6.484375 \r\nQ 5.515625 14.40625 5.515625 27.296875 \r\nQ 5.515625 40.1875 11.734375 48.09375 \r\nQ 17.96875 56 27.875 56 \r\nQ 33.9375 56 38.25 53.625 \r\nQ 42.578125 51.265625 45.40625 46.390625 \r\nz\r\nM 14.796875 27.296875 \r\nQ 14.796875 17.390625 18.875 11.75 \r\nQ 22.953125 6.109375 30.078125 6.109375 \r\nQ 37.203125 6.109375 41.296875 11.75 \r\nQ 45.40625 17.390625 45.40625 27.296875 \r\nQ 45.40625 37.203125 41.296875 42.84375 \r\nQ 37.203125 48.484375 30.078125 48.484375 \r\nQ 22.953125 48.484375 18.875 42.84375 \r\nQ 14.796875 37.203125 14.796875 27.296875 \r\nz\r\n\" id=\"DejaVuSans-100\"/>\r\n     <path d=\"M 9.421875 54.6875 \r\nL 18.40625 54.6875 \r\nL 18.40625 0 \r\nL 9.421875 0 \r\nz\r\nM 9.421875 75.984375 \r\nL 18.40625 75.984375 \r\nL 18.40625 64.59375 \r\nL 9.421875 64.59375 \r\nz\r\n\" id=\"DejaVuSans-105\"/>\r\n     <path d=\"M 9.421875 75.984375 \r\nL 18.40625 75.984375 \r\nL 18.40625 0 \r\nL 9.421875 0 \r\nz\r\n\" id=\"DejaVuSans-108\"/>\r\n     <path id=\"DejaVuSans-32\"/>\r\n     <path d=\"M 19.671875 64.796875 \r\nL 19.671875 8.109375 \r\nL 31.59375 8.109375 \r\nQ 46.6875 8.109375 53.6875 14.9375 \r\nQ 60.6875 21.78125 60.6875 36.53125 \r\nQ 60.6875 51.171875 53.6875 57.984375 \r\nQ 46.6875 64.796875 31.59375 64.796875 \r\nz\r\nM 9.8125 72.90625 \r\nL 30.078125 72.90625 \r\nQ 51.265625 72.90625 61.171875 64.09375 \r\nQ 71.09375 55.28125 71.09375 36.53125 \r\nQ 71.09375 17.671875 61.125 8.828125 \r\nQ 51.171875 0 30.078125 0 \r\nL 9.8125 0 \r\nz\r\n\" id=\"DejaVuSans-68\"/>\r\n     <path d=\"M 44.28125 53.078125 \r\nL 44.28125 44.578125 \r\nQ 40.484375 46.53125 36.375 47.5 \r\nQ 32.28125 48.484375 27.875 48.484375 \r\nQ 21.1875 48.484375 17.84375 46.4375 \r\nQ 14.5 44.390625 14.5 40.28125 \r\nQ 14.5 37.15625 16.890625 35.375 \r\nQ 19.28125 33.59375 26.515625 31.984375 \r\nL 29.59375 31.296875 \r\nQ 39.15625 29.25 43.1875 25.515625 \r\nQ 47.21875 21.78125 47.21875 15.09375 \r\nQ 47.21875 7.46875 41.1875 3.015625 \r\nQ 35.15625 -1.421875 24.609375 -1.421875 \r\nQ 20.21875 -1.421875 15.453125 -0.5625 \r\nQ 10.6875 0.296875 5.421875 2 \r\nL 5.421875 11.28125 \r\nQ 10.40625 8.6875 15.234375 7.390625 \r\nQ 20.0625 6.109375 24.8125 6.109375 \r\nQ 31.15625 6.109375 34.5625 8.28125 \r\nQ 37.984375 10.453125 37.984375 14.40625 \r\nQ 37.984375 18.0625 35.515625 20.015625 \r\nQ 33.0625 21.96875 24.703125 23.78125 \r\nL 21.578125 24.515625 \r\nQ 13.234375 26.265625 9.515625 29.90625 \r\nQ 5.8125 33.546875 5.8125 39.890625 \r\nQ 5.8125 47.609375 11.28125 51.796875 \r\nQ 16.75 56 26.8125 56 \r\nQ 31.78125 56 36.171875 55.265625 \r\nQ 40.578125 54.546875 44.28125 53.078125 \r\nz\r\n\" id=\"DejaVuSans-115\"/>\r\n     <path d=\"M 18.3125 70.21875 \r\nL 18.3125 54.6875 \r\nL 36.8125 54.6875 \r\nL 36.8125 47.703125 \r\nL 18.3125 47.703125 \r\nL 18.3125 18.015625 \r\nQ 18.3125 11.328125 20.140625 9.421875 \r\nQ 21.96875 7.515625 27.59375 7.515625 \r\nL 36.8125 7.515625 \r\nL 36.8125 0 \r\nL 27.59375 0 \r\nQ 17.1875 0 13.234375 3.875 \r\nQ 9.28125 7.765625 9.28125 18.015625 \r\nL 9.28125 47.703125 \r\nL 2.6875 47.703125 \r\nL 2.6875 54.6875 \r\nL 9.28125 54.6875 \r\nL 9.28125 70.21875 \r\nz\r\n\" id=\"DejaVuSans-116\"/>\r\n     <path d=\"M 48.6875 27.296875 \r\nQ 48.6875 37.203125 44.609375 42.84375 \r\nQ 40.53125 48.484375 33.40625 48.484375 \r\nQ 26.265625 48.484375 22.1875 42.84375 \r\nQ 18.109375 37.203125 18.109375 27.296875 \r\nQ 18.109375 17.390625 22.1875 11.75 \r\nQ 26.265625 6.109375 33.40625 6.109375 \r\nQ 40.53125 6.109375 44.609375 11.75 \r\nQ 48.6875 17.390625 48.6875 27.296875 \r\nz\r\nM 18.109375 46.390625 \r\nQ 20.953125 51.265625 25.265625 53.625 \r\nQ 29.59375 56 35.59375 56 \r\nQ 45.5625 56 51.78125 48.09375 \r\nQ 58.015625 40.1875 58.015625 27.296875 \r\nQ 58.015625 14.40625 51.78125 6.484375 \r\nQ 45.5625 -1.421875 35.59375 -1.421875 \r\nQ 29.59375 -1.421875 25.265625 0.953125 \r\nQ 20.953125 3.328125 18.109375 8.203125 \r\nL 18.109375 0 \r\nL 9.078125 0 \r\nL 9.078125 75.984375 \r\nL 18.109375 75.984375 \r\nz\r\n\" id=\"DejaVuSans-98\"/>\r\n     <path d=\"M 8.5 21.578125 \r\nL 8.5 54.6875 \r\nL 17.484375 54.6875 \r\nL 17.484375 21.921875 \r\nQ 17.484375 14.15625 20.5 10.265625 \r\nQ 23.53125 6.390625 29.59375 6.390625 \r\nQ 36.859375 6.390625 41.078125 11.03125 \r\nQ 45.3125 15.671875 45.3125 23.6875 \r\nL 45.3125 54.6875 \r\nL 54.296875 54.6875 \r\nL 54.296875 0 \r\nL 45.3125 0 \r\nL 45.3125 8.40625 \r\nQ 42.046875 3.421875 37.71875 1 \r\nQ 33.40625 -1.421875 27.6875 -1.421875 \r\nQ 18.265625 -1.421875 13.375 4.4375 \r\nQ 8.5 10.296875 8.5 21.578125 \r\nz\r\nM 31.109375 56 \r\nz\r\n\" id=\"DejaVuSans-117\"/>\r\n     <path d=\"M 30.609375 48.390625 \r\nQ 23.390625 48.390625 19.1875 42.75 \r\nQ 14.984375 37.109375 14.984375 27.296875 \r\nQ 14.984375 17.484375 19.15625 11.84375 \r\nQ 23.34375 6.203125 30.609375 6.203125 \r\nQ 37.796875 6.203125 41.984375 11.859375 \r\nQ 46.1875 17.53125 46.1875 27.296875 \r\nQ 46.1875 37.015625 41.984375 42.703125 \r\nQ 37.796875 48.390625 30.609375 48.390625 \r\nz\r\nM 30.609375 56 \r\nQ 42.328125 56 49.015625 48.375 \r\nQ 55.71875 40.765625 55.71875 27.296875 \r\nQ 55.71875 13.875 49.015625 6.21875 \r\nQ 42.328125 -1.421875 30.609375 -1.421875 \r\nQ 18.84375 -1.421875 12.171875 6.21875 \r\nQ 5.515625 13.875 5.515625 27.296875 \r\nQ 5.515625 40.765625 12.171875 48.375 \r\nQ 18.84375 56 30.609375 56 \r\nz\r\n\" id=\"DejaVuSans-111\"/>\r\n     <path d=\"M 54.890625 33.015625 \r\nL 54.890625 0 \r\nL 45.90625 0 \r\nL 45.90625 32.71875 \r\nQ 45.90625 40.484375 42.875 44.328125 \r\nQ 39.84375 48.1875 33.796875 48.1875 \r\nQ 26.515625 48.1875 22.3125 43.546875 \r\nQ 18.109375 38.921875 18.109375 30.90625 \r\nL 18.109375 0 \r\nL 9.078125 0 \r\nL 9.078125 54.6875 \r\nL 18.109375 54.6875 \r\nL 18.109375 46.1875 \r\nQ 21.34375 51.125 25.703125 53.5625 \r\nQ 30.078125 56 35.796875 56 \r\nQ 45.21875 56 50.046875 50.171875 \r\nQ 54.890625 44.34375 54.890625 33.015625 \r\nz\r\n\" id=\"DejaVuSans-110\"/>\r\n     <path d=\"M 9.8125 72.90625 \r\nL 51.703125 72.90625 \r\nL 51.703125 64.59375 \r\nL 19.671875 64.59375 \r\nL 19.671875 43.109375 \r\nL 48.578125 43.109375 \r\nL 48.578125 34.8125 \r\nL 19.671875 34.8125 \r\nL 19.671875 0 \r\nL 9.8125 0 \r\nz\r\n\" id=\"DejaVuSans-70\"/>\r\n     <path d=\"M 48.78125 52.59375 \r\nL 48.78125 44.1875 \r\nQ 44.96875 46.296875 41.140625 47.34375 \r\nQ 37.3125 48.390625 33.40625 48.390625 \r\nQ 24.65625 48.390625 19.8125 42.84375 \r\nQ 14.984375 37.3125 14.984375 27.296875 \r\nQ 14.984375 17.28125 19.8125 11.734375 \r\nQ 24.65625 6.203125 33.40625 6.203125 \r\nQ 37.3125 6.203125 41.140625 7.25 \r\nQ 44.96875 8.296875 48.78125 10.40625 \r\nL 48.78125 2.09375 \r\nQ 45.015625 0.34375 40.984375 -0.53125 \r\nQ 36.96875 -1.421875 32.421875 -1.421875 \r\nQ 20.0625 -1.421875 12.78125 6.34375 \r\nQ 5.515625 14.109375 5.515625 27.296875 \r\nQ 5.515625 40.671875 12.859375 48.328125 \r\nQ 20.21875 56 33.015625 56 \r\nQ 37.15625 56 41.109375 55.140625 \r\nQ 45.0625 54.296875 48.78125 52.59375 \r\nz\r\n\" id=\"DejaVuSans-99\"/>\r\n    </defs>\r\n    <g transform=\"translate(153.308125 16.318125)scale(0.12 -0.12)\">\r\n     <use xlink:href=\"#DejaVuSans-82\"/>\r\n     <use x=\"69.451172\" xlink:href=\"#DejaVuSans-97\"/>\r\n     <use x=\"130.730469\" xlink:href=\"#DejaVuSans-100\"/>\r\n     <use x=\"194.207031\" xlink:href=\"#DejaVuSans-105\"/>\r\n     <use x=\"221.990234\" xlink:href=\"#DejaVuSans-97\"/>\r\n     <use x=\"283.269531\" xlink:href=\"#DejaVuSans-108\"/>\r\n     <use x=\"311.052734\" xlink:href=\"#DejaVuSans-32\"/>\r\n     <use x=\"342.839844\" xlink:href=\"#DejaVuSans-68\"/>\r\n     <use x=\"419.841797\" xlink:href=\"#DejaVuSans-105\"/>\r\n     <use x=\"447.625\" xlink:href=\"#DejaVuSans-115\"/>\r\n     <use x=\"499.724609\" xlink:href=\"#DejaVuSans-116\"/>\r\n     <use x=\"538.933594\" xlink:href=\"#DejaVuSans-114\"/>\r\n     <use x=\"580.046875\" xlink:href=\"#DejaVuSans-105\"/>\r\n     <use x=\"607.830078\" xlink:href=\"#DejaVuSans-98\"/>\r\n     <use x=\"671.306641\" xlink:href=\"#DejaVuSans-117\"/>\r\n     <use x=\"734.685547\" xlink:href=\"#DejaVuSans-116\"/>\r\n     <use x=\"773.894531\" xlink:href=\"#DejaVuSans-105\"/>\r\n     <use x=\"801.677734\" xlink:href=\"#DejaVuSans-111\"/>\r\n     <use x=\"862.859375\" xlink:href=\"#DejaVuSans-110\"/>\r\n     <use x=\"926.238281\" xlink:href=\"#DejaVuSans-32\"/>\r\n     <use x=\"958.025391\" xlink:href=\"#DejaVuSans-70\"/>\r\n     <use x=\"1015.466797\" xlink:href=\"#DejaVuSans-117\"/>\r\n     <use x=\"1078.845703\" xlink:href=\"#DejaVuSans-110\"/>\r\n     <use x=\"1142.224609\" xlink:href=\"#DejaVuSans-99\"/>\r\n     <use x=\"1197.205078\" xlink:href=\"#DejaVuSans-116\"/>\r\n     <use x=\"1236.414062\" xlink:href=\"#DejaVuSans-105\"/>\r\n     <use x=\"1264.197266\" xlink:href=\"#DejaVuSans-111\"/>\r\n     <use x=\"1325.378906\" xlink:href=\"#DejaVuSans-110\"/>\r\n    </g>\r\n   </g>\r\n  </g>\r\n </g>\r\n <defs>\r\n  <clipPath id=\"p438db0d790\">\r\n   <rect height=\"217.44\" width=\"334.8\" x=\"69.23125\" y=\"22.318125\"/>\r\n  </clipPath>\r\n </defs>\r\n</svg>\r\n",
      "image/png": "[encoded data removed]"
     },
     "metadata": {
      "needs_background": "light"
     }
    }
   ],
   "source": [
    "fig, aa = plt.subplots()\n",
    "aa.plot(gr[0:,0], gr[0:,1], label='RDF')\n",
    "plt.setp(aa, xlabel='r', ylabel='g(r)')\n",
    "aa.set_title('Radial Distribution Function')"
   ]
  },
  {
   "cell_type": "code",
   "execution_count": null,
   "metadata": {},
   "outputs": [],
   "source": []
  }
 ],
 "metadata": {
  "language_info": {
   "codemirror_mode": {
    "name": "ipython",
    "version": 3
   },
   "file_extension": ".py",
   "mimetype": "text/x-python",
   "name": "python",
   "nbconvert_exporter": "python",
   "pygments_lexer": "ipython3",
   "version": "3.7.6-final"
  },
  "orig_nbformat": 2,
  "kernelspec": {
   "name": "python3",
   "display_name": "Python 3"
  }
 },
 "nbformat": 4,
 "nbformat_minor": 2
}