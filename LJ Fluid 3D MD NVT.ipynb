{
 "cells": [
  {
   "cell_type": "markdown",
   "metadata": {},
   "source": [
    "# Simulating a 3D Lennard-Jones Fluid at NVT"
   ]
  },
  {
   "cell_type": "markdown",
   "metadata": {},
   "source": [
    "## Model\n",
    "\n",
    "Distribute particles along a 3D lattice and initialize velocities according to a Boltzmann Distribution at starting temp Ti. Shift velocities so net velocitiy (center of mass velocity) is 0\n",
    "\n",
    "Use velocity Verlet algorithm for MD steps\n",
    "\n",
    "Calculate force by summing over all pairs of particles\n",
    "\n",
    "Assume periodic boundry conditions and cutoff distance($ r_{c} $) < 1/2 diameter of box($ d_{box} $) so interactions are only between nearest periodic image. Therefore: $$ d_{x}(i,j) = x(i) - x(j) - d_{box} \\cdot round\\left(\\frac{x(i) - x(j)}{d_{box}}\\right) $$\n",
    "\n",
    "Lennard-Jones Potential Energy: $$ V(r) = 4 \\epsilon \\left(\\left(\\frac{\\sigma}{r}\\right)^{12}-\\left(\\frac{\\sigma}{r}\\right)^{6}\\right) = 4 \\left(\\frac{1}{r^{*12}} - \\frac{1}{r^{*6}}\\right) = \\frac{4}{r^{*6}} \\left(\\frac{1}{r^{*6}} - 1\\right) $$\n",
    "\n",
    "and Lennard-Jones Force: $$ F_{x}(r) = -\\frac{\\partial}{\\partial x} \\cdot V(r) = -\\left(\\frac{d_{x}}{r}\\right)\\left(\\frac{\\partial}{\\partial r} \\cdot V(r)\\right) = \\frac{48 d_{x}}{r^{*2}}\\left(\\frac{1}{r^{*12}} - 0.5\\frac{1}{r^{*6}}\\right) = \\frac{48 d_{x}}{r^{*2}} \\cdot \\frac{1}{r^{*6}}\\left(\\frac{1}{r^{*6}} - 0.5\\right) $$\n",
    "\n",
    "where x = any cartesian axis, $ d_{x} $ = distance between particles i and j along axis x, and r = vector distance between particles i and j. Therefore in 3D space:\n",
    "\n",
    "$$ r = \\sqrt{d_{x}^{2} + d_{y}^{2} + d_{z}^{2}} $$\n",
    "\n",
    "$$ V(d_{x}, d_{y}, d_{z}) = \\frac{4}{\\left(d_{x}^{2} + d_{y}^{2} + d_{z}^{2}\\right)^{3}} \\left(\\frac{1}{\\left(d_{x}^{2} + d_{y}^{2} + d_{z}^{2}\\right)^{3}} - 1\\right) $$\n",
    "\n",
    "$$ F_{x}(d_{x}, d_{y}, d_{z}) = \\frac{48 d_{x}}{d_{x}^{2} + d_{y}^{2} + d_{z}^{2}} \\cdot \\frac{1}{\\left(d_{x}^{2} + d_{y}^{2} + d_{z}^{2}\\right)^{3}}\\left(\\frac{1}{\\left(d_{x}^{2} + d_{y}^{2} + d_{z}^{2}\\right)^{3}} - 0.5\\right) $$\n",
    "\n",
    "Position: $$ x(t + dt) = x(t) + v(t)dt + \\frac{F(t)}{2m}dt^{2} $$\n",
    "\n",
    "Velocity: $$ v(t + dt) = v(t) + \\frac{f(t + dt) + f(t)}{2m}dt = v(t) + \\frac{f(t + dt)}{2m}dt + \\frac{f(t)}{2m}dt = v(t + \\frac{1}{2}dt) + \\frac{f(t + dt)}{2m}dt $$\n",
    "\n",
    "where $$ v(t + \\frac{1}{2}dt) = v(t) + \\frac{f(t)}{2m}dt $$"
   ]
  },
  {
   "cell_type": "markdown",
   "metadata": {},
   "source": [
    "## Initialization"
   ]
  },
  {
   "cell_type": "markdown",
   "metadata": {},
   "source": [
    "Imports:"
   ]
  },
  {
   "cell_type": "code",
   "execution_count": 1,
   "metadata": {},
   "outputs": [],
   "source": [
    "%matplotlib inline\n",
    "#%config InteractiveShell.ast_node_interactivity='last_expr_or_assign'\n",
    "import matplotlib.pyplot as plt\n",
    "import numpy as np"
   ]
  },
  {
   "cell_type": "markdown",
   "metadata": {},
   "source": [
    "Global Constants:"
   ]
  },
  {
   "cell_type": "code",
   "execution_count": 59,
   "metadata": {},
   "outputs": [],
   "source": [
    "rng = np.random.default_rng()\n",
    "m = 1\n",
    "dt = 0.01\n",
    "cycles = 1000\n",
    "ndim = 5\n",
    "nparts = ndim**3\n",
    "Ti = 2\n",
    "dbox = 5"
   ]
  },
  {
   "cell_type": "markdown",
   "metadata": {},
   "source": [
    "## Definitions"
   ]
  },
  {
   "cell_type": "code",
   "execution_count": 60,
   "metadata": {},
   "outputs": [],
   "source": [
    "#returns position after time delt using the velocity verlet method\n",
    "def verPos(currPos, vel, frc):\n",
    "    return currPos + (vel * dt) + (frc * dt**2 / 2 / m)\n",
    "\n",
    "#returns velocity after time delt using the velocity verlet method with half timestep\n",
    "def verVel(currVel, frc):\n",
    "    return currVel + (dt * frc / 2 / m)\n",
    "\n",
    "#returns distance between particle i and j along x axis \n",
    "def dist(xi, xj):\n",
    "    return xi - xj - dbox * round((xi - xj) / dbox)\n",
    "\n",
    "#returns 3D vector distance from distance components dx, dy, and dz\n",
    "def vdist(dx, dy, dz):\n",
    "    return np.sqrt(dx**2 + dy**2 + dz**2)\n",
    "\n",
    "#returns LJ force along x axis\n",
    "def force(dx, r):\n",
    "    return 48 * dx * r**-2 * r**-6 * (r**-6 - 0.5)\n",
    "\n",
    "#reutrns LJ potential\n",
    "def potE(r):\n",
    "    return 4 * r**-6 * (r**-6 - 1)\n",
    "\n",
    "#Calculates forces across all pairs of particles\n",
    "def forces(frc, pos):\n",
    "    frc = np.zeros_like(frc)\n",
    "    for i in range(nparts - 1):\n",
    "        for j in range(i + 1, nparts):\n",
    "            dx = dist(pos[i,0], pos[j,0])\n",
    "            dy = dist(pos[i,1], pos[j,1])\n",
    "            dz = dist(pos[i,2], pos[j,2])\n",
    "            r = vdist(dx, dy, dz)\n",
    "            frc[i,0] += force(dx, r)\n",
    "            frc[i,1] += force(dy, r)\n",
    "            frc[i,2] += force(dz, r)\n",
    "            frc[j,0] -= force(dx, r)\n",
    "            frc[j,1] -= force(dy, r)\n",
    "            frc[j,2] -= force(dz, r)\n",
    "    return frc\n",
    "\n",
    "#Calculates new positions\n",
    "def positions(pos, vel, frc):\n",
    "    for i in range(nparts):\n",
    "        for j in range(3):\n",
    "            pos[i,j] = verPos(pos[i,j], vel[i,j], frc[i,j])\n",
    "    return pos\n",
    "\n",
    "#Calculates new velocities\n",
    "def velocities(vel, frc):\n",
    "    for i in range(nparts):\n",
    "        for j in range(3):\n",
    "            vel[i,j] = verVel(vel[i,j], frc[i,j])\n",
    "    return vel"
   ]
  },
  {
   "cell_type": "markdown",
   "metadata": {},
   "source": [
    "## Simulation"
   ]
  },
  {
   "cell_type": "code",
   "execution_count": 61,
   "metadata": {},
   "outputs": [],
   "source": [
    "#Creating the arrays\n",
    "Pos = np.zeros([nparts, 3])\n",
    "Vel = np.zeros([nparts, 3])\n",
    "Frc = np.zeros([nparts, 3])\n",
    "\n",
    "#Filling the arrays with the initial conditions\n",
    "Pos = np.vstack(np.meshgrid(np.linspace(-dbox/2,dbox/2,ndim),np.linspace(-dbox/2,dbox/2,ndim),np.linspace(-dbox/2,dbox/2,ndim))).reshape(3,-1).T\n",
    "for i in range(3):\n",
    "    sumV = 0\n",
    "    for j in range(nparts):\n",
    "        Vel[j,i] = rng.normal(0, np.sqrt(Ti))\n",
    "        sumV += Vel[j,i]\n",
    "    sumV = sumV / nparts\n",
    "    for j in range(nparts):\n",
    "        Vel[j,i] = Vel[j,i] - sumV\n",
    "\n",
    "#MD Loop\n",
    "for i in range(cycles):\n",
    "    Frc = forces(Frc, Pos)\n",
    "    Pos = positions(Pos, Vel, Frc)\n",
    "    Vel = velocities(Vel, Frc)\n",
    "    Frc = forces(Frc, Pos)\n",
    "    Vel = velocities(Vel, Frc)\n"
   ]
  },
  {
   "cell_type": "code",
   "execution_count": null,
   "metadata": {},
   "outputs": [],
   "source": []
  }
 ],
 "metadata": {
  "language_info": {
   "codemirror_mode": {
    "name": "ipython",
    "version": 3
   },
   "file_extension": ".py",
   "mimetype": "text/x-python",
   "name": "python",
   "nbconvert_exporter": "python",
   "pygments_lexer": "ipython3",
   "version": "3.7.6-final"
  },
  "orig_nbformat": 2,
  "kernelspec": {
   "name": "python3",
   "display_name": "Python 3"
  }
 },
 "nbformat": 4,
 "nbformat_minor": 2
}